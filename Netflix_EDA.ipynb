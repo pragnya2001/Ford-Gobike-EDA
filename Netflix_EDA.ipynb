{
  "nbformat": 4,
  "nbformat_minor": 0,
  "metadata": {
    "colab": {
      "private_outputs": true,
      "provenance": [],
      "include_colab_link": true
    },
    "kernelspec": {
      "name": "python3",
      "display_name": "Python 3"
    },
    "language_info": {
      "name": "python"
    }
  },
  "cells": [
    {
      "cell_type": "markdown",
      "metadata": {
        "id": "view-in-github",
        "colab_type": "text"
      },
      "source": [
        "<a href=\"https://colab.research.google.com/github/pragnya2001/Ford-Gobike-EDA/blob/main/Netflix_EDA.ipynb\" target=\"_parent\"><img src=\"https://colab.research.google.com/assets/colab-badge.svg\" alt=\"Open In Colab\"/></a>"
      ]
    },
    {
      "cell_type": "markdown",
      "source": [
        "# **Project Name**    - Netflix Movie and TV Shows EDA\n",
        "\n"
      ],
      "metadata": {
        "id": "vncDsAP0Gaoa"
      }
    },
    {
      "cell_type": "markdown",
      "source": [
        "##### **Project Type**    - EDA\n",
        "##### **Contribution**    - Pragnyasmita chand\n"
      ],
      "metadata": {
        "id": "beRrZCGUAJYm"
      }
    },
    {
      "cell_type": "markdown",
      "source": [
        "# **Project Summary -**\n",
        "\n"
      ],
      "metadata": {
        "id": "FJNUwmbgGyua"
      }
    },
    {
      "cell_type": "markdown",
      "source": [
        "**OBJECTIVE**:\n",
        "The objective of this project is to perform an in-depth exploratory data analysis of Netflux's catalog of movies and TV shows. By analyzing various attributes like content type, genres, release years, durations and country of origin , we aim to uncover patterns, trends and insights that reflect the structue and evolution of Netflix's global content library. This analysis helps us understand how content is distributed across categories and how it has changed over time.\n",
        "\n",
        "\n",
        "**BACKGROUND**:\n",
        "Netflix, being a global leader in streaming entertainment, hosts a diverse catalog of content catering to wide audience. With thousands of tites in different formats, languages and genres, it is important to analyze this data to gain insights into content trends, regional focus, genre popularity and duration preferences. EDA provides the foundation for understanding data distribution and guides strategic decisions such as  content acquisition, regional expansion and personalization for users.\n",
        "This project leverages a cleaned version of Netflix's public content dataset, which includes columns like title, type, release year, duration, country and listed_in.The aim is not to predict or classify anything but to explore and understand the data visually and statistically.\n",
        "\n",
        "**DATASET DESCRIPTION**:\n",
        "The dataset used in this project is titled 'NTFLIX MOVIES AND TV SHOES EDA', key columns used for EDA includes-\n",
        "-  title: The name of the movies and shoes.\n",
        "-  type: Indicates whether the content is a movie or tv shows.\n",
        "-  release year: The year the content was released.\n",
        "-  duration: Duration in minutes(for movies) and number of seasons ( for tv shows)\n",
        "-  coutry: The country where the content was produced or released.\n",
        "-  listed_in: Genre or category tags.\n",
        "\n",
        "**OVERVIEW**:\n",
        "\n",
        "This EDA sheds light on ho etflix structures its content library. It reveals dominant genres, coutries and time-based trends while helping identify viewer preference in terms of duration and content type. These insights are valuable for strategic content curation and personalization efforts. Future work can build on this by integrating user behavior data or applying recommendation system techniques for deeper anaysis.\n"
      ],
      "metadata": {
        "id": "F6v_1wHtG2nS"
      }
    },
    {
      "cell_type": "markdown",
      "source": [
        "# **GitHub Link -**"
      ],
      "metadata": {
        "id": "w6K7xa23Elo4"
      }
    },
    {
      "cell_type": "markdown",
      "source": [
        "https://github.com/pragnya2001"
      ],
      "metadata": {
        "id": "h1o69JH3Eqqn"
      }
    },
    {
      "cell_type": "markdown",
      "source": [
        "# **Problem Statement**\n"
      ],
      "metadata": {
        "id": "yQaldy8SH6Dl"
      }
    },
    {
      "cell_type": "markdown",
      "source": [
        "Netflix, a global streaming platform, hosts thousands of titles across various countries, languages, genres and formats. However, with the sheer scale of content available, it becomes challenging to understand how this content is distributed and how it evolves over time. There is a need to explore the dataset to identify hidden patterns, content trends, popular genres, country-wise contributions and production timelines.\n",
        "This project addressess the problem of limited visibillity into Netflix's content struture by conducting a detailed EDA using key attributes such as content type, genre, country, duration and release year. By doing so, the goal is to extract actionabe insights about content distribution and evolution without applying predictive."
      ],
      "metadata": {
        "id": "DpeJGUA3kjGy"
      }
    },
    {
      "cell_type": "markdown",
      "source": [
        "#### **Define Your Business Objective?**"
      ],
      "metadata": {
        "id": "PH-0ReGfmX4f"
      }
    },
    {
      "cell_type": "markdown",
      "source": [
        "The primary business objective of this project is to help stakeholders at Netflix gain data-driven insights into their content catalog. Specifically, the project aims to:\n",
        "-  Understand the proportion of movies vs. TV shows on the platform.\n",
        "-  Identify the most popular genres and their frequency of apperance.\n",
        "-  Analyse the trends in content production over the years.\n",
        "-  Discover the top contributing countries in terms of content availability.\n",
        "-  Examine the duration patterns of content to understand user consumptin preference.\n",
        "\n",
        "These insights can support strategic decision-making in areas such as:\n",
        "-  content acquisition and licensing.\n",
        "-  regional content expansion.\n",
        "-  personalizzation and recommendation improvements.\n",
        "-  catalog optimization based on user preference.\n",
        "\n",
        "By visualizing and analyzing these content features, business teams can prioitize investments in specific genres, regions and formats alighned with audience demand and platform goals.\n"
      ],
      "metadata": {
        "id": "PhDvGCAqmjP1"
      }
    },
    {
      "cell_type": "markdown",
      "source": [],
      "metadata": {
        "id": "ZrxVaUj-hHfC"
      }
    },
    {
      "cell_type": "markdown",
      "source": [
        "## ***1. Know Your Data***"
      ],
      "metadata": {
        "id": "HhfV-JJviCcP"
      }
    },
    {
      "cell_type": "markdown",
      "source": [
        "### Import Libraries"
      ],
      "metadata": {
        "id": "Y3lxredqlCYt"
      }
    },
    {
      "cell_type": "code",
      "source": [
        "# Import Libraries"
      ],
      "metadata": {
        "id": "M8Vqi-pPk-HR"
      },
      "execution_count": null,
      "outputs": []
    },
    {
      "cell_type": "code",
      "source": [
        "import pandas as pd\n",
        "import numpy as np\n",
        "import matplotlib.pyplot as plt\n",
        "import seaborn as sns"
      ],
      "metadata": {
        "id": "0_t0ExOCTz5P"
      },
      "execution_count": null,
      "outputs": []
    },
    {
      "cell_type": "code",
      "source": [
        "sns.set(style='whitegrid')\n",
        "plt.rcParams['figure.figsize'] = (10,6)"
      ],
      "metadata": {
        "id": "WSzDOoGOUAPa"
      },
      "execution_count": null,
      "outputs": []
    },
    {
      "cell_type": "markdown",
      "source": [
        "### Dataset Loading"
      ],
      "metadata": {
        "id": "3RnN4peoiCZX"
      }
    },
    {
      "cell_type": "code",
      "source": [
        "# Load Dataset"
      ],
      "metadata": {
        "id": "4CkvbW_SlZ_R"
      },
      "execution_count": null,
      "outputs": []
    },
    {
      "cell_type": "code",
      "source": [
        "from google.colab import files\n",
        "uploaded = files.upload()"
      ],
      "metadata": {
        "id": "9J8bG8nqUUFs"
      },
      "execution_count": null,
      "outputs": []
    },
    {
      "cell_type": "markdown",
      "source": [
        "### Dataset First View"
      ],
      "metadata": {
        "id": "x71ZqKXriCWQ"
      }
    },
    {
      "cell_type": "code",
      "source": [
        "# Dataset First Look"
      ],
      "metadata": {
        "id": "LWNFOSvLl09H"
      },
      "execution_count": null,
      "outputs": []
    },
    {
      "cell_type": "code",
      "source": [
        "df = pd.read_excel('NETFLIX MOVIES AND TV SHOWS CLUSTERING.xlsx')"
      ],
      "metadata": {
        "id": "D9i4gPMHYHnO"
      },
      "execution_count": null,
      "outputs": []
    },
    {
      "cell_type": "code",
      "source": [
        "df.head()"
      ],
      "metadata": {
        "id": "WrOc2ZzCYV22"
      },
      "execution_count": null,
      "outputs": []
    },
    {
      "cell_type": "markdown",
      "source": [
        "### Dataset Rows & Columns count"
      ],
      "metadata": {
        "id": "7hBIi_osiCS2"
      }
    },
    {
      "cell_type": "code",
      "source": [
        "# Dataset Rows & Columns count"
      ],
      "metadata": {
        "id": "Kllu7SJgmLij"
      },
      "execution_count": null,
      "outputs": []
    },
    {
      "cell_type": "code",
      "source": [
        "df.shape"
      ],
      "metadata": {
        "id": "eCcE0hfEYgs9"
      },
      "execution_count": null,
      "outputs": []
    },
    {
      "cell_type": "markdown",
      "source": [
        "### Dataset Information"
      ],
      "metadata": {
        "id": "JlHwYmJAmNHm"
      }
    },
    {
      "cell_type": "code",
      "source": [
        "# Dataset Info"
      ],
      "metadata": {
        "id": "e9hRXRi6meOf"
      },
      "execution_count": null,
      "outputs": []
    },
    {
      "cell_type": "code",
      "source": [
        "df.info()"
      ],
      "metadata": {
        "id": "yXtk4N_FYm4i"
      },
      "execution_count": null,
      "outputs": []
    },
    {
      "cell_type": "markdown",
      "source": [
        "#### Duplicate Values"
      ],
      "metadata": {
        "id": "35m5QtbWiB9F"
      }
    },
    {
      "cell_type": "code",
      "source": [
        "# Dataset Duplicate Value Count"
      ],
      "metadata": {
        "id": "1sLdpKYkmox0"
      },
      "execution_count": null,
      "outputs": []
    },
    {
      "cell_type": "code",
      "source": [
        "df.duplicated().sum()"
      ],
      "metadata": {
        "id": "-16I9UV1YsrE"
      },
      "execution_count": null,
      "outputs": []
    },
    {
      "cell_type": "markdown",
      "source": [
        "#### Missing Values/Null Values"
      ],
      "metadata": {
        "id": "PoPl-ycgm1ru"
      }
    },
    {
      "cell_type": "code",
      "source": [
        "# Missing Values/Null Values Count"
      ],
      "metadata": {
        "id": "GgHWkxvamxVg"
      },
      "execution_count": null,
      "outputs": []
    },
    {
      "cell_type": "code",
      "source": [
        "df.isnull().sum()"
      ],
      "metadata": {
        "id": "3YCl27sPY0vU"
      },
      "execution_count": null,
      "outputs": []
    },
    {
      "cell_type": "code",
      "source": [
        "# Visualizing the missing values"
      ],
      "metadata": {
        "id": "3q5wnI3om9sJ"
      },
      "execution_count": null,
      "outputs": []
    },
    {
      "cell_type": "code",
      "source": [
        "plt.figure(figsize=(10,6))\n",
        "sns.heatmap(df.isnull(), cbar=False, cmap='viridis')\n",
        "plt.title('Missing Values Heatmap')\n",
        "plt.tight_layout()\n",
        "plt.show()"
      ],
      "metadata": {
        "id": "VT4zO0PSZY4r"
      },
      "execution_count": null,
      "outputs": []
    },
    {
      "cell_type": "markdown",
      "source": [
        "### What did you know about your dataset?"
      ],
      "metadata": {
        "id": "H0kj-8xxnORC"
      }
    },
    {
      "cell_type": "markdown",
      "source": [
        "The dataset contains information about all the content currently or previously available on Netflix, including movies and TV shows. It's structured in a tabular format and here's what we observed:\n",
        "\n",
        "1. show_id - A unique identifier for each show.\n",
        "2. type - Indicates whether the entry is a Movie or TV show.\n",
        "3. title - Title of the content.\n",
        "4. director - Name of the director, may be missing for some shows.\n",
        "5. cast - Leading actors/actress involved.\n",
        "6. country - Country of production.\n",
        "7. date_added -  Date the show was added to Netflix.\n",
        "8. release_year -  The original release year of the content.\n",
        "9. rating - Audience classification.\n",
        "10. duration - Duration of the content for TV shows, this is in number of seasons.\n",
        "11. listed_in- Genres or categories the content falls under.\n",
        "12. description - Short description/summary of the content.\n",
        "\n",
        "\n",
        "-  The dataset contains 7787 rows and 12 columns.\n",
        "\n",
        "**DATA QUALITY INSIGHTS**\n",
        "-  Missing values are found in column like director,cast,country, rating and date_added.\n",
        "-  There aren't any duplicate value in the dataset.\n",
        "-  Some fields like duration are formatted differently for movies vs tv shows, which need to be handled separately during analysis.\n",
        "\n"
      ],
      "metadata": {
        "id": "gfoNAAC-nUe_"
      }
    },
    {
      "cell_type": "markdown",
      "source": [
        "## ***2. Understanding Your Variables***"
      ],
      "metadata": {
        "id": "nA9Y7ga8ng1Z"
      }
    },
    {
      "cell_type": "code",
      "source": [
        "# Dataset Columns"
      ],
      "metadata": {
        "id": "j7xfkqrt5Ag5"
      },
      "execution_count": null,
      "outputs": []
    },
    {
      "cell_type": "code",
      "source": [
        "df.columns"
      ],
      "metadata": {
        "id": "zhrdA11yfVii"
      },
      "execution_count": null,
      "outputs": []
    },
    {
      "cell_type": "code",
      "source": [
        "# Dataset Describe"
      ],
      "metadata": {
        "id": "DnOaZdaE5Q5t"
      },
      "execution_count": null,
      "outputs": []
    },
    {
      "cell_type": "code",
      "source": [
        "df.describe()"
      ],
      "metadata": {
        "id": "GomA0MnQf3aa"
      },
      "execution_count": null,
      "outputs": []
    },
    {
      "cell_type": "markdown",
      "source": [
        "### Variables Description"
      ],
      "metadata": {
        "id": "PBTbrJXOngz2"
      }
    },
    {
      "cell_type": "markdown",
      "source": [
        "1. show_id\n",
        "-  type: string(unique id)\n",
        "-  description: a unique identifier assigned to each title on Netflix.\n",
        "-  use: helps distinguish between different record.\n",
        "2. type\n",
        "-  type: categorical\n",
        "-  description: indicates whether the content is movie or a tv show.\n",
        "-  use: used to analyze the distribution and trends of content formats.\n",
        "3. title\n",
        "-  type: string\n",
        "-  description: the title/name of the movie or show.\n",
        "-  use: for identification, search or matching purpose.\n",
        "4. director\n",
        "-  type: string\n",
        "-  description: names of the directors of the content.\n",
        "-  use: helps in director-based filtering or analytics; often missing for tv shows.\n",
        "5. cast\n",
        "-  type: string\n",
        "-  description: lead actor/actress in the movie or show.\n",
        "-  use: useful for identifying star power, actor-based recommendation, etc.\n",
        "6. country\n",
        "-  type: string\n",
        "-  description: the date when the content was added to Netflix.\n",
        "7. date_added\n",
        "- type: datetime\n",
        "-  description: the date when the content was added to Netflix.\n",
        "-  use: useful for time-series analysis and understanding Netflix's content growth over time.\n",
        "8. release_year\n",
        "-  type: integer\n",
        "-  description: the original release year of the movie or show.\n",
        "-  use: analyzing content age, production trend and vintage analysis.\n",
        "9. rating\n",
        "-  type: categorical\n",
        "-  description: audience classifcation\n",
        "-  use: age-group targeting, content filtering and parental control analytics.\n",
        "10. duration\n",
        "-  type; string\n",
        "-  description: for movies it's in minutes and for shows it's in seasons.\n",
        "-  use: requires parsing.useful for understanding ontent length and categorized.\n",
        "11. listed_in\n",
        "-  type: string\n",
        "-  description: categorize or genres associated with the title.\n",
        "-  use: genre analysis, recommendation systems and audience targeting.\n",
        "12. description\n",
        "-  type: string\n",
        "-  description: a short summary or synopsis of the movie or shoe.\n",
        "-  use: mainly textual info for viewers; can be used in NLP for sentiment/topic analysis."
      ],
      "metadata": {
        "id": "aJV4KIxSnxay"
      }
    },
    {
      "cell_type": "markdown",
      "source": [
        "### Check Unique Values for each variable."
      ],
      "metadata": {
        "id": "u3PMJOP6ngxN"
      }
    },
    {
      "cell_type": "code",
      "source": [
        "# Check Unique Values for each variable."
      ],
      "metadata": {
        "id": "zms12Yq5n-jE"
      },
      "execution_count": null,
      "outputs": []
    },
    {
      "cell_type": "code",
      "source": [
        "df.nunique().sort_values(ascending=False)"
      ],
      "metadata": {
        "id": "nddn1QvLj9XS"
      },
      "execution_count": null,
      "outputs": []
    },
    {
      "cell_type": "markdown",
      "source": [
        "## 3. ***Data Wrangling***"
      ],
      "metadata": {
        "id": "dauF4eBmngu3"
      }
    },
    {
      "cell_type": "markdown",
      "source": [
        "### Data Wrangling Code"
      ],
      "metadata": {
        "id": "bKJF3rekwFvQ"
      }
    },
    {
      "cell_type": "code",
      "source": [
        "# Write your code to make your dataset analysis ready."
      ],
      "metadata": {
        "id": "wk-9a2fpoLcV"
      },
      "execution_count": null,
      "outputs": []
    },
    {
      "cell_type": "code",
      "source": [
        "# Convert 'date_added' to datetime format where applicable\n",
        "df['date_added'] = pd.to_datetime(df['date_added'], errors='coerce')\n"
      ],
      "metadata": {
        "id": "jWWDrhyvrIQi"
      },
      "execution_count": null,
      "outputs": []
    },
    {
      "cell_type": "code",
      "source": [
        "# Create new columns from 'duration' (split number and unit)\n",
        "df[['duration_int', 'duration_unit']] = df['duration'].str.extract('(\\d+)\\s*(\\w+)')\n",
        "df['duration_int'] = pd.to_numeric(df['duration_int'])\n"
      ],
      "metadata": {
        "id": "-FfcnRAhrVj4"
      },
      "execution_count": null,
      "outputs": []
    },
    {
      "cell_type": "code",
      "source": [
        "# Strip whitespace and convert to lowercase for consistency\n",
        "text_cols = ['type', 'title', 'director', 'cast', 'country', 'rating', 'listed_in']\n",
        "for col in text_cols:\n",
        "    df[col] = df[col].astype(str).str.strip()\n"
      ],
      "metadata": {
        "id": "cHr0_KT8rZ6v"
      },
      "execution_count": null,
      "outputs": []
    },
    {
      "cell_type": "markdown",
      "source": [
        "### What all manipulations have you done and insights you found?"
      ],
      "metadata": {
        "id": "MSa1f5Uengrz"
      }
    },
    {
      "cell_type": "markdown",
      "source": [
        "1. Handling Missing values\n",
        "-  Filled missing values in rating with the most frequent rating. Replaced missing values in director, cast, country and date_added with unknown. Preserved data integrity without dropping rows unnecessarily.\n",
        "\n",
        "2. Converted date format\n",
        "- Converted date_added column from string to datetime format using pd.to_datetime(). Enabled time-based analysis.\n",
        "\n",
        "3. Extracted duration components\n",
        "-  Split the duration column into two parts: numeric value and unit. Allowed for numeric analysis of content length.\n",
        "\n",
        "\n",
        "\n",
        "**INSIGHT**\n",
        "-  Missing value: Only 7 missing ratings out of 7787 records--> 0.09%, not significant. Many entries lacked director and cast info --> especially common in TV shows and documentaries.\n",
        "-  Duration structure: Movies had durations in minutes, tv shows in seasons --> required separation for proper analysis. Enabled creation of numerical columns for aggregation.\n",
        "-  Date patterns: Converting date_added to datetime helped identify Netflix's content addition trends over time."
      ],
      "metadata": {
        "id": "LbyXE7I1olp8"
      }
    },
    {
      "cell_type": "markdown",
      "source": [
        "## ***4. Data Vizualization, Storytelling & Experimenting with charts : Understand the relationships between variables***"
      ],
      "metadata": {
        "id": "GF8Ens_Soomf"
      }
    },
    {
      "cell_type": "markdown",
      "source": [
        "#### Chart - 1- CONTENT TYPE DISTRIBUTION (MOVIES VS TV SHOWS)"
      ],
      "metadata": {
        "id": "0wOQAZs5pc--"
      }
    },
    {
      "cell_type": "code",
      "source": [
        "# Chart - 1"
      ],
      "metadata": {
        "id": "7v_ESjsspbW7"
      },
      "execution_count": null,
      "outputs": []
    },
    {
      "cell_type": "code",
      "source": [
        "content_type_counts = df['type'].value_counts()\n",
        "\n",
        "plt.figure(figsize=(8, 6))\n",
        "plt.pie(content_type_counts, labels=content_type_counts.index, autopct='%1.1f%%', startangle=90)\n",
        "plt.title('Distribution of Content Types')\n",
        "plt.tight_layout()\n",
        "plt.show()\n"
      ],
      "metadata": {
        "id": "yz3KkFngyH3J"
      },
      "execution_count": null,
      "outputs": []
    },
    {
      "cell_type": "markdown",
      "source": [
        "##### 1. Why did you pick the specific chart?"
      ],
      "metadata": {
        "id": "K5QZ13OEpz2H"
      }
    },
    {
      "cell_type": "markdown",
      "source": [
        "A pie chart is great for showing proportions between categories -- in this case, to visualize how much of Netflix's library is made up of Movies vs TV shows."
      ],
      "metadata": {
        "id": "XESiWehPqBRc"
      }
    },
    {
      "cell_type": "markdown",
      "source": [
        "##### 2. What is/are the insight(s) found from the chart?"
      ],
      "metadata": {
        "id": "lQ7QKXXCp7Bj"
      }
    },
    {
      "cell_type": "markdown",
      "source": [
        "-  Approximately 70% of the content is movies.\n",
        "-  Only 30% is TV shows, indicating a heavier focus on films."
      ],
      "metadata": {
        "id": "C_j1G7yiqdRP"
      }
    },
    {
      "cell_type": "markdown",
      "source": [
        "##### 3. Will the gained insights help creating a positive business impact?\n",
        "Are there any insights that lead to negative growth? Justify with specific reason."
      ],
      "metadata": {
        "id": "448CDAPjqfQr"
      }
    },
    {
      "cell_type": "markdown",
      "source": [
        "-  This insight can guide content acquisition teams to consider expanding TV show offerings if they want to increase user engagement over longer periods.\n",
        "-  Helps Netflix balance content strategy between quick consumption and binge-worthy content.\n"
      ],
      "metadata": {
        "id": "3cspy4FjqxJW"
      }
    },
    {
      "cell_type": "markdown",
      "source": [
        "#### Chart - 2 - NUMBER OF TITLES ADDED EACH YEAR"
      ],
      "metadata": {
        "id": "KSlN3yHqYklG"
      }
    },
    {
      "cell_type": "code",
      "source": [
        "# Chart - 2"
      ],
      "metadata": {
        "id": "R4YgtaqtYklH"
      },
      "execution_count": null,
      "outputs": []
    },
    {
      "cell_type": "code",
      "source": [
        "df['date_added'] = pd.to_datetime(df['date_added'], errors='coerce')\n",
        "df['year_added'] = df['date_added'].dt.year\n",
        "yearly_additionss = df['year_added'].value_counts().sort_index()\n",
        "\n",
        "\n",
        "plt.figure(figsize=(10, 6))\n",
        "sns.lineplot(x=yearly_additionss.index, y=yearly_additionss.values, marker='o')\n",
        "plt.title('Number of Titles Added Each Year')\n",
        "plt.xlabel('Year')\n",
        "plt.ylabel('Number of Titles')\n",
        "plt.xticks(rotation=45)\n",
        "plt.grid(True)\n",
        "plt.tight_layout()\n",
        "plt.show()"
      ],
      "metadata": {
        "id": "tGcvusFv2DhZ"
      },
      "execution_count": null,
      "outputs": []
    },
    {
      "cell_type": "markdown",
      "source": [
        "##### 1. Why did you pick the specific chart?"
      ],
      "metadata": {
        "id": "t6dVpIINYklI"
      }
    },
    {
      "cell_type": "markdown",
      "source": [
        "A line plot is ideal to show trends over time. Here, we'll examine how Netflix's content library has grown or shrunk over the years based on the date_added column.  "
      ],
      "metadata": {
        "id": "5aaW0BYyYklI"
      }
    },
    {
      "cell_type": "markdown",
      "source": [
        "##### 2. What is/are the insight(s) found from the chart?"
      ],
      "metadata": {
        "id": "ijmpgYnKYklI"
      }
    },
    {
      "cell_type": "markdown",
      "source": [
        "-  Netflix saw a steady increase in content addition from 2015 to 2019, peaking in 2019.\n",
        "-  A slight dip or plateau occured in 2020-2021, likely due to covid-19 production delays.\n",
        "-  Older titles before 2015 were added in bulk as Netflix expanded globally."
      ],
      "metadata": {
        "id": "PSx9atu2YklI"
      }
    },
    {
      "cell_type": "markdown",
      "source": [
        "##### 3. Will the gained insights help creating a positive business impact?\n",
        "Are there any insights that lead to negative growth? Justify with specific reason."
      ],
      "metadata": {
        "id": "-JiQyfWJYklI"
      }
    },
    {
      "cell_type": "markdown",
      "source": [
        "-  Reveals content expansion strategy over the years.\n",
        "-  Helps planning future content drops and understanding how external factors affect production pipelines.\n",
        "-  Could assist in forecasting content needs and acquisition budgets based on past patterns."
      ],
      "metadata": {
        "id": "BcBbebzrYklV"
      }
    },
    {
      "cell_type": "markdown",
      "source": [
        "#### Chart - 3 - TOP 10 COUNTRIES PRODUCING NETFLIX CONTENT"
      ],
      "metadata": {
        "id": "EM7whBJCYoAo"
      }
    },
    {
      "cell_type": "code",
      "source": [
        "# Chart - 3"
      ],
      "metadata": {
        "id": "t6GMdE67YoAp"
      },
      "execution_count": null,
      "outputs": []
    },
    {
      "cell_type": "code",
      "source": [
        "df['country'].fillna('UnKnown', inplace=True)\n",
        "\n",
        "df['country_split']= df['country'].str.split(',')\n",
        "df_exploded = df.explode('country_split')\n",
        "\n",
        "top_countries = df_exploded['country_split'].value_counts().head(10)\n",
        "\n",
        "plt.figure(figsize=(10,6))\n",
        "sns.barplot(x=top_countries.index, y=top_countries.values)\n",
        "plt.title('Top 10 Countries Producing Netflix Content')\n",
        "plt.xlabel('Country')\n",
        "plt.ylabel('Number of Titles')\n",
        "plt.tight_layout()\n",
        "plt.show()\n"
      ],
      "metadata": {
        "id": "eiiO1p297BwL"
      },
      "execution_count": null,
      "outputs": []
    },
    {
      "cell_type": "markdown",
      "source": [
        "##### 1. Why did you pick the specific chart?"
      ],
      "metadata": {
        "id": "fge-S5ZAYoAp"
      }
    },
    {
      "cell_type": "markdown",
      "source": [
        "A horizontal bar chart is effective when dealing with long category names. It helps us understand which countries dominate Netflix's content library."
      ],
      "metadata": {
        "id": "5dBItgRVYoAp"
      }
    },
    {
      "cell_type": "markdown",
      "source": [
        "##### 2. What is/are the insight(s) found from the chart?"
      ],
      "metadata": {
        "id": "85gYPyotYoAp"
      }
    },
    {
      "cell_type": "markdown",
      "source": [
        "-  United states dominates Netflix content, followed by India, united kingdom, canada and japan.\n",
        "-  There's clear regional diversity but a concentration in a few major production hubs."
      ],
      "metadata": {
        "id": "4jstXR6OYoAp"
      }
    },
    {
      "cell_type": "markdown",
      "source": [
        "##### 3. Will the gained insights help creating a positive business impact?\n",
        "Are there any insights that lead to negative growth? Justify with specific reason."
      ],
      "metadata": {
        "id": "RoGjAbkUYoAp"
      }
    },
    {
      "cell_type": "markdown",
      "source": [
        "-  Helps Netflix identify its strongest production markets and assess diversification.\n",
        "-  Supports decisions about expanding original productions or licensing in underrepresented regions.\n",
        "-  Useful for regional marketing, content localization and developing country-specific recommendations."
      ],
      "metadata": {
        "id": "zfJ8IqMcYoAp"
      }
    },
    {
      "cell_type": "markdown",
      "source": [
        "#### Chart - 4 - TOP 10 DIRECTORS WITH THE MOST TITLES ON NETFLIX"
      ],
      "metadata": {
        "id": "4Of9eVA-YrdM"
      }
    },
    {
      "cell_type": "code",
      "source": [
        "# Chart - 4"
      ],
      "metadata": {
        "id": "irlUoxc8YrdO"
      },
      "execution_count": null,
      "outputs": []
    },
    {
      "cell_type": "code",
      "source": [
        "df['director'].fillna('Unknown', inplace=True)\n",
        "\n",
        "df['director_split'] = df['director'].str.split(',')\n",
        "df_exploded = df.explode('director_split')\n",
        "\n",
        "top_directors = df_exploded['director_split'].value_counts().head(10)\n",
        "\n",
        "plt.figure(figsize=(14,6))\n",
        "sns.barplot(x=top_directors.index, y=top_directors.values)\n",
        "plt.title('Top 10 Directors with the Most Titles on Netflix')\n",
        "plt.xlabel('Director')\n",
        "plt.tight_layout()\n",
        "plt.show()"
      ],
      "metadata": {
        "id": "40BOrl71-8zu"
      },
      "execution_count": null,
      "outputs": []
    },
    {
      "cell_type": "markdown",
      "source": [
        "##### 1. Why did you pick the specific chart?"
      ],
      "metadata": {
        "id": "iky9q4vBYrdO"
      }
    },
    {
      "cell_type": "markdown",
      "source": [
        "A bar chart helps highlight the directors with the highest number of titles.This can reveal key contributors to Netflix's content library and potential collaborators for future projects."
      ],
      "metadata": {
        "id": "aJRCwT6DYrdO"
      }
    },
    {
      "cell_type": "markdown",
      "source": [
        "##### 2. What is/are the insight(s) found from the chart?"
      ],
      "metadata": {
        "id": "F6T5p64dYrdO"
      }
    },
    {
      "cell_type": "markdown",
      "source": [
        "-  Directors like Raul campos, Marcus Raboy and Jay Karas frequently appear on Netflix.\n",
        "-  Many are known for stand-up comedy, documentary or television specials."
      ],
      "metadata": {
        "id": "Xx8WAJvtYrdO"
      }
    },
    {
      "cell_type": "markdown",
      "source": [
        "##### 3. Will the gained insights help creating a positive business impact?\n",
        "Are there any insights that lead to negative growth? Justify with specific reason."
      ],
      "metadata": {
        "id": "y-Ehk30pYrdP"
      }
    },
    {
      "cell_type": "markdown",
      "source": [
        "-  Helps Netflix recognize and invest in high-volume directors who consistrntly deliver content.\n",
        "-  Support partnership strategic and content planning by identifying creators with proven engagement.\n",
        "-  Encourages building franchise opportunities or spin-offs from frequently featured directors.\n"
      ],
      "metadata": {
        "id": "jLNxxz7MYrdP"
      }
    },
    {
      "cell_type": "markdown",
      "source": [
        "#### Chart - 5 - TOP 10 GENRES ON NETFLIX (listed_in)"
      ],
      "metadata": {
        "id": "bamQiAODYuh1"
      }
    },
    {
      "cell_type": "code",
      "source": [
        "# Chart - 5"
      ],
      "metadata": {
        "id": "TIJwrbroYuh3"
      },
      "execution_count": null,
      "outputs": []
    },
    {
      "cell_type": "code",
      "source": [
        "df['listed_in_split']= df['listed_in'].str.split(',')\n",
        "df_exploded = df.explode('listed_in_split')\n",
        "\n",
        "top_genres = df_exploded['listed_in_split'].value_counts().head(10)\n",
        "\n",
        "plt.figure(figsize=(14,6))\n",
        "sns.barplot(x=top_genres.index, y=top_genres.values)\n",
        "plt.title('Top 10 Genres on Netflix')\n",
        "plt.xlabel('Genre')\n",
        "plt.ylabel('Number of Titles')\n",
        "plt.tight_layout()\n",
        "plt.show()"
      ],
      "metadata": {
        "id": "KIy3GG8wDs5G"
      },
      "execution_count": null,
      "outputs": []
    },
    {
      "cell_type": "markdown",
      "source": [
        "##### 1. Why did you pick the specific chart?"
      ],
      "metadata": {
        "id": "QHF8YVU7Yuh3"
      }
    },
    {
      "cell_type": "markdown",
      "source": [
        "The listed_in column contains genre tags. A bar chart helps visualize the most common content categories on Netflix, which is crucial for understanding audience preferences and platform focus."
      ],
      "metadata": {
        "id": "dcxuIMRPYuh3"
      }
    },
    {
      "cell_type": "markdown",
      "source": [
        "##### 2. What is/are the insight(s) found from the chart?"
      ],
      "metadata": {
        "id": "GwzvFGzlYuh3"
      }
    },
    {
      "cell_type": "markdown",
      "source": [
        "-  Top genres include dramas, comedies, documentaries and international movies.\n",
        "-  Netflix focuses heavily on globally appealing and emotionally engaging genres."
      ],
      "metadata": {
        "id": "uyqkiB8YYuh3"
      }
    },
    {
      "cell_type": "markdown",
      "source": [
        "##### 3. Will the gained insights help creating a positive business impact?\n",
        "Are there any insights that lead to negative growth? Justify with specific reason."
      ],
      "metadata": {
        "id": "qYpmQ266Yuh3"
      }
    },
    {
      "cell_type": "markdown",
      "source": [
        "-  These insights can guide content investment decisions, which genres to prioritize.\n",
        "-  Helps with personalized recommendation algorithms by knowing which genres dominate.\n",
        "-  Encourages developing more original content in popular genres to drive engagement.\n"
      ],
      "metadata": {
        "id": "_WtzZ_hCYuh4"
      }
    },
    {
      "cell_type": "markdown",
      "source": [
        "#### Chart - 6 - RATING DISTRIBUTION"
      ],
      "metadata": {
        "id": "OH-pJp9IphqM"
      }
    },
    {
      "cell_type": "code",
      "source": [
        "# Chart - 6"
      ],
      "metadata": {
        "id": "kuRf4wtuphqN"
      },
      "execution_count": null,
      "outputs": []
    },
    {
      "cell_type": "code",
      "source": [
        "df['rating'].fillna('UnKnown', inplace=True)\n",
        "\n",
        "plt.figure(figsize=(10,6))\n",
        "sns.countplot(data=df, x='rating')\n",
        "plt.title('Rating Distribution')\n",
        "plt.xlabel('Rating')\n",
        "plt.ylabel('Count')\n",
        "plt.xticks(rotation=45)\n",
        "plt.tight_layout()\n",
        "plt.show()"
      ],
      "metadata": {
        "id": "DuwOpFoQF7rQ"
      },
      "execution_count": null,
      "outputs": []
    },
    {
      "cell_type": "markdown",
      "source": [
        "##### 1. Why did you pick the specific chart?"
      ],
      "metadata": {
        "id": "bbFf2-_FphqN"
      }
    },
    {
      "cell_type": "markdown",
      "source": [
        "A count plot is ideal here to show how content is classified based on age rating like TV-MA, PG-13, R etc. It's crucial for understanding the platform's target audience segments.\n"
      ],
      "metadata": {
        "id": "loh7H2nzphqN"
      }
    },
    {
      "cell_type": "markdown",
      "source": [
        "##### 2. What is/are the insight(s) found from the chart?"
      ],
      "metadata": {
        "id": "_ouA3fa0phqN"
      }
    },
    {
      "cell_type": "markdown",
      "source": [
        "-  The most common ratings are TV-MA and TV-14.\n",
        "-  This shows Netflix targets teen and adult viewers, with relatively fewer children's programs."
      ],
      "metadata": {
        "id": "VECbqPI7phqN"
      }
    },
    {
      "cell_type": "markdown",
      "source": [
        "##### 3. Will the gained insights help creating a positive business impact?\n",
        "Are there any insights that lead to negative growth? Justify with specific reason."
      ],
      "metadata": {
        "id": "Seke61FWphqN"
      }
    },
    {
      "cell_type": "markdown",
      "source": [
        "-  Helps in understanding age demographi focus and planning for under served segment.\n",
        "-  Useful for parental controls, UX design ad marketing targeting.\n",
        "- Could prompt Netflix to create more family-friendly or children-focused content."
      ],
      "metadata": {
        "id": "DW4_bGpfphqN"
      }
    },
    {
      "cell_type": "markdown",
      "source": [
        "#### Chart - 7 - DISTRIBUTION OF MOVIE DURATIONS(IN MINUTES)"
      ],
      "metadata": {
        "id": "PIIx-8_IphqN"
      }
    },
    {
      "cell_type": "code",
      "source": [
        "# Chart - 7"
      ],
      "metadata": {
        "id": "lqAIGUfyphqO"
      },
      "execution_count": null,
      "outputs": []
    },
    {
      "cell_type": "code",
      "source": [
        "movies_df = df[df['type'] == 'Movie'].copy()\n",
        "movies_df['duration'] = movies_df['duration'].str.extract('(\\d+)').astype(float)\n",
        "\n",
        "\n",
        "plt.figure(figsize=(10,6))\n",
        "sns.histplot(movies_df['duration'], bins=30, kde=True, color='skyblue')\n",
        "plt.title('Distribution of Movie Durations')\n",
        "plt.xlabel('Duration (minutes)')\n",
        "plt.ylabel('Number of movies')\n",
        "plt.tight_layout()\n",
        "plt.show()"
      ],
      "metadata": {
        "id": "cmETfX-yImsK"
      },
      "execution_count": null,
      "outputs": []
    },
    {
      "cell_type": "markdown",
      "source": [
        "##### 1. Why did you pick the specific chart?"
      ],
      "metadata": {
        "id": "t27r6nlMphqO"
      }
    },
    {
      "cell_type": "markdown",
      "source": [
        "A histogram is perfect for showing the distribution of continuous numerical values - in this case, how long Netflix movies typically are. This helps us understand if Netflix favors short, standard or longer movie formats."
      ],
      "metadata": {
        "id": "iv6ro40sphqO"
      }
    },
    {
      "cell_type": "markdown",
      "source": [
        "##### 2. What is/are the insight(s) found from the chart?"
      ],
      "metadata": {
        "id": "r2jJGEOYphqO"
      }
    },
    {
      "cell_type": "markdown",
      "source": [
        "-  Most Netflix movies are between 80 to 120 minutes, aligning with industry norms.\n",
        "-  Some outliers are present but rare."
      ],
      "metadata": {
        "id": "Po6ZPi4hphqO"
      }
    },
    {
      "cell_type": "markdown",
      "source": [
        "##### 3. Will the gained insights help creating a positive business impact?\n",
        "Are there any insights that lead to negative growth? Justify with specific reason."
      ],
      "metadata": {
        "id": "b0JNsNcRphqO"
      }
    },
    {
      "cell_type": "markdown",
      "source": [
        "-  Helps in content formatting decisions.\n",
        "-  Insights into whether there's room to create short-form or long-form movie content.\n",
        "-  Could be used to personalize content recommendations based on user watch time habits."
      ],
      "metadata": {
        "id": "xvSq8iUTphqO"
      }
    },
    {
      "cell_type": "markdown",
      "source": [
        "#### Chart - 8 - TOP 15 DIRECTORS ON NETFLIX"
      ],
      "metadata": {
        "id": "BZR9WyysphqO"
      }
    },
    {
      "cell_type": "code",
      "source": [
        "# Chart - 8"
      ],
      "metadata": {
        "id": "TdPTWpAVphqO"
      },
      "execution_count": null,
      "outputs": []
    },
    {
      "cell_type": "code",
      "source": [
        "directors_df = df.dropna(subset=['director']).copy()\n",
        "directors_df['director'] = directors_df['director'].str.split(',')\n",
        "directors_df_exploded = directors_df.explode('director')\n",
        "\n",
        "director_counts = directors_df_exploded['director'].value_counts().head(15)\n",
        "\n",
        "plt.figure(figsize=(15,6))\n",
        "sns.barplot(x=director_counts.index, y=director_counts.values)\n",
        "plt.title('Top 15 Directors on Netflix')\n",
        "plt.xlabel('Director')\n",
        "plt.ylabel('Number of Titles')\n",
        "plt.tight_layout()\n",
        "plt.show()"
      ],
      "metadata": {
        "id": "hjM9Ni_KN1hj"
      },
      "execution_count": null,
      "outputs": []
    },
    {
      "cell_type": "markdown",
      "source": [
        "##### 1. Why did you pick the specific chart?"
      ],
      "metadata": {
        "id": "jj7wYXLtphqO"
      }
    },
    {
      "cell_type": "markdown",
      "source": [
        "A bar chart showing the most frequent directors helps identify key content creators and their volume of work. It's useful for partnership or acquisition strategies."
      ],
      "metadata": {
        "id": "Ob8u6rCTphqO"
      }
    },
    {
      "cell_type": "markdown",
      "source": [
        "##### 2. What is/are the insight(s) found from the chart?"
      ],
      "metadata": {
        "id": "eZrbJ2SmphqO"
      }
    },
    {
      "cell_type": "markdown",
      "source": [
        "-  Reveals high-volume contributors such as Raul campos or Jan sute.\n",
        "-  Shows Netflix's regional production preference."
      ],
      "metadata": {
        "id": "mZtgC_hjphqO"
      }
    },
    {
      "cell_type": "markdown",
      "source": [
        "##### 3. Will the gained insights help creating a positive business impact?\n",
        "Are there any insights that lead to negative growth? Justify with specific reason."
      ],
      "metadata": {
        "id": "rFu4xreNphqO"
      }
    },
    {
      "cell_type": "markdown",
      "source": [
        "-  Helps identify key talent for content partnership.\n",
        "-  Aids in analyzing genre specialization by director.\n",
        "-  Useful for forecasting future content strategy and trends."
      ],
      "metadata": {
        "id": "ey_0qi68phqO"
      }
    },
    {
      "cell_type": "markdown",
      "source": [
        "#### Chart - 9 - TOP 10 COUNTRIES WITH MOST NETFLIX TITLES"
      ],
      "metadata": {
        "id": "YJ55k-q6phqO"
      }
    },
    {
      "cell_type": "code",
      "source": [
        "# Chart - 9"
      ],
      "metadata": {
        "id": "B2aS4O1ophqO"
      },
      "execution_count": null,
      "outputs": []
    },
    {
      "cell_type": "code",
      "source": [
        "top_countries = df['country'].dropna().str.split(',').explode().value_counts().head(10)\n",
        "\n",
        "\n",
        "plt.figure(figsize=(10,6))\n",
        "sns.barplot(x=top_countries.index, y=top_countries.values, palette='plasma')\n",
        "plt.title('Top 10 Countries with the Most Netflix Titles')\n",
        "plt.xlabel('Country')\n",
        "plt.ylabel('Number of Titles')\n",
        "plt.tight_layout()\n",
        "plt.show()"
      ],
      "metadata": {
        "id": "aTuzABAPUsr_"
      },
      "execution_count": null,
      "outputs": []
    },
    {
      "cell_type": "markdown",
      "source": [
        "##### 1. Why did you pick the specific chart?"
      ],
      "metadata": {
        "id": "gCFgpxoyphqP"
      }
    },
    {
      "cell_type": "markdown",
      "source": [
        "A bar chart is perfect for comparing discrete categories like country names."
      ],
      "metadata": {
        "id": "TVxDimi2phqP"
      }
    },
    {
      "cell_type": "markdown",
      "source": [
        "##### 2. What is/are the insight(s) found from the chart?"
      ],
      "metadata": {
        "id": "OVtJsKN_phqQ"
      }
    },
    {
      "cell_type": "markdown",
      "source": [
        "It shows which countries contribute the most content to Netflix, reflecting regional focus and audience reach."
      ],
      "metadata": {
        "id": "ngGi97qjphqQ"
      }
    },
    {
      "cell_type": "markdown",
      "source": [
        "##### 3. Will the gained insights help creating a positive business impact?\n",
        "Are there any insights that lead to negative growth? Justify with specific reason."
      ],
      "metadata": {
        "id": "lssrdh5qphqQ"
      }
    },
    {
      "cell_type": "markdown",
      "source": [
        "Yes- this helps Netflix decide regional content acquisition, licensing strategies and localized promotion."
      ],
      "metadata": {
        "id": "tBpY5ekJphqQ"
      }
    },
    {
      "cell_type": "markdown",
      "source": [
        "#### Chart - 10 - TREND OF MOVIES VS TV SHOWS ADDED OVER YEARS"
      ],
      "metadata": {
        "id": "U2RJ9gkRphqQ"
      }
    },
    {
      "cell_type": "code",
      "source": [
        "# Chart - 10"
      ],
      "metadata": {
        "id": "GM7a4YP4phqQ"
      },
      "execution_count": null,
      "outputs": []
    },
    {
      "cell_type": "code",
      "source": [
        "df['date_added'] = pd.to_datetime(df['date_added'])\n",
        "df['year_added'] = df['date_added'].dt.year\n",
        "df_cleaned = df.dropna(subset=['year_added'])\n",
        "type_trend = df_cleaned.groupby(['year_added', 'type']).size().unstack().fillna(0)\n",
        "\n",
        "\n",
        "type_trend.plot(kind='bar', stacked=True, figsize=(12, 7), colormap='Set2')\n",
        "plt.title('Trend of Movies vs TV Shows Added Over the Years')\n",
        "plt.xlabel('Year')\n",
        "plt.ylabel('Number of Titles Added')\n",
        "plt.legend(title='Content Type')\n",
        "plt.tight_layout()\n",
        "plt.show()\n"
      ],
      "metadata": {
        "id": "44246De2XMHR"
      },
      "execution_count": null,
      "outputs": []
    },
    {
      "cell_type": "markdown",
      "source": [
        "##### 1. Why did you pick the specific chart?"
      ],
      "metadata": {
        "id": "1M8mcRywphqQ"
      }
    },
    {
      "cell_type": "markdown",
      "source": [
        " A stacked bar chart clearly visualizes trends across time while comparing categories side by side."
      ],
      "metadata": {
        "id": "8agQvks0phqQ"
      }
    },
    {
      "cell_type": "markdown",
      "source": [
        "##### 2. What is/are the insight(s) found from the chart?"
      ],
      "metadata": {
        "id": "tgIPom80phqQ"
      }
    },
    {
      "cell_type": "markdown",
      "source": [
        "-  Observe the change in volume of TV shows and movies added each year.\n",
        "-  If TV shows are growing or catching up with movies in recent years, it implies strategic emphasis on serialized content."
      ],
      "metadata": {
        "id": "Qp13pnNzphqQ"
      }
    },
    {
      "cell_type": "markdown",
      "source": [
        "##### 3. Will the gained insights help creating a positive business impact?\n",
        "Are there any insights that lead to negative growth? Justify with specific reason."
      ],
      "metadata": {
        "id": "JMzcOPDDphqR"
      }
    },
    {
      "cell_type": "markdown",
      "source": [
        "Yes - strategic content planning depends on such trends, guiding marketing, production and licensing efforts."
      ],
      "metadata": {
        "id": "R4Ka1PC2phqR"
      }
    },
    {
      "cell_type": "markdown",
      "source": [
        "#### Chart - 11 - HEATMAP OF GENRE DISTRIBUTION ACROSS TOP 5 COUNTRIES"
      ],
      "metadata": {
        "id": "x-EpHcCOp1ci"
      }
    },
    {
      "cell_type": "code",
      "source": [
        "# Chart - 11"
      ],
      "metadata": {
        "id": "mAQTIvtqp1cj"
      },
      "execution_count": null,
      "outputs": []
    },
    {
      "cell_type": "code",
      "source": [
        "\n",
        "genre_country_df = df.dropna(subset=['country', 'listed_in'])\n",
        "\n",
        "\n",
        "genre_country_df['country'] = genre_country_df['country'].apply(lambda x: x.split(',')[0])\n",
        "\n",
        "\n",
        "genre_country_df['listed_in'] = genre_country_df['listed_in'].str.split(', ')\n",
        "genre_country_df = genre_country_df.explode('listed_in')\n",
        "\n",
        "\n",
        "top_5_countries = genre_country_df['country'].value_counts().head(5).index\n",
        "top_5_genres = genre_country_df['listed_in'].value_counts().head(5).index\n",
        "\n",
        "\n",
        "filtered_df = genre_country_df[\n",
        "    (genre_country_df['country'].isin(top_5_countries)) &\n",
        "    (genre_country_df['listed_in'].isin(top_5_genres))\n",
        "]\n",
        "\n",
        "\n",
        "pivot_table = filtered_df.pivot_table(index='listed_in', columns='country', aggfunc='size', fill_value=0)\n",
        "\n",
        "\n",
        "plt.figure(figsize=(10, 6))\n",
        "sns.heatmap(pivot_table, annot=True, cmap='YlGnBu', fmt='d')\n",
        "plt.title('Top 5 Genres Across Top 5 Countries')\n",
        "plt.xlabel('Country')\n",
        "plt.ylabel('Genre')\n",
        "plt.tight_layout()\n",
        "plt.show()\n"
      ],
      "metadata": {
        "id": "0URcyGTLZ6z3"
      },
      "execution_count": null,
      "outputs": []
    },
    {
      "cell_type": "markdown",
      "source": [
        "##### 1. Why did you pick the specific chart?"
      ],
      "metadata": {
        "id": "X_VqEhTip1ck"
      }
    },
    {
      "cell_type": "markdown",
      "source": [
        "A heatmap is perfect for showing intensity and relationship in a compact, visual format."
      ],
      "metadata": {
        "id": "-vsMzt_np1ck"
      }
    },
    {
      "cell_type": "markdown",
      "source": [
        "##### 2. What is/are the insight(s) found from the chart?"
      ],
      "metadata": {
        "id": "8zGJKyg5p1ck"
      }
    },
    {
      "cell_type": "markdown",
      "source": [
        "-  Understand which genres are most common in each major Netflix market.\n",
        "-  E.g. , India might favor Dramas, while US might have more Comedies or documentries."
      ],
      "metadata": {
        "id": "ZYdMsrqVp1ck"
      }
    },
    {
      "cell_type": "markdown",
      "source": [
        "##### 3. Will the gained insights help creating a positive business impact?\n",
        "Are there any insights that lead to negative growth? Justify with specific reason."
      ],
      "metadata": {
        "id": "PVzmfK_Ep1ck"
      }
    },
    {
      "cell_type": "markdown",
      "source": [
        "Helps Netflix and competitors plan localized content strategies and genre-specific recommendations."
      ],
      "metadata": {
        "id": "druuKYZpp1ck"
      }
    },
    {
      "cell_type": "markdown",
      "source": [
        "#### Chart - 12 - Correlation Heatmap for numerical features"
      ],
      "metadata": {
        "id": "NC_X3p0fY2L0"
      }
    },
    {
      "cell_type": "code",
      "source": [
        "# Correlation Heatmap"
      ],
      "metadata": {
        "id": "xyC9zolEZNRQ"
      },
      "execution_count": null,
      "outputs": []
    },
    {
      "cell_type": "code",
      "source": [
        "\n",
        "df_numeric = df.copy()\n",
        "\n",
        "\n",
        "df_numeric['duration_int'] = df_numeric['duration'].str.extract('(\\d+)').astype(float)\n",
        "df_numeric['duration_unit'] = df_numeric['duration'].str.extract('([a-zA-Z]+)')\n",
        "\n",
        "\n",
        "df_numeric['duration_mins'] = df_numeric.apply(\n",
        "    lambda row: row['duration_int'] if row['type'] == 'Movie' and row['duration_unit'] == 'min' else None,\n",
        "    axis=1\n",
        ")\n",
        "\n",
        "\n",
        "corr_data = df_numeric[['release_year', 'duration_mins']].dropna()\n",
        "\n",
        "\n",
        "correlation_matrix = corr_data.corr()\n",
        "\n",
        "\n",
        "plt.figure(figsize=(6, 4))\n",
        "sns.heatmap(correlation_matrix, annot=True, cmap='coolwarm', fmt='.2f')\n",
        "plt.title('Correlation Heatmap: Release Year vs Movie Duration')\n",
        "plt.tight_layout()\n",
        "plt.show()\n"
      ],
      "metadata": {
        "id": "ElZClei9bTKa"
      },
      "execution_count": null,
      "outputs": []
    },
    {
      "cell_type": "markdown",
      "source": [
        "##### 1. Why did you pick the specific chart?"
      ],
      "metadata": {
        "id": "UV0SzAkaZNRQ"
      }
    },
    {
      "cell_type": "markdown",
      "source": [
        "A correlation heatmap shows the strength and direction of relationships between numeric variables."
      ],
      "metadata": {
        "id": "DVPuT8LYZNRQ"
      }
    },
    {
      "cell_type": "markdown",
      "source": [
        "##### 2. What is/are the insight(s) found from the chart?"
      ],
      "metadata": {
        "id": "YPEH6qLeZNRQ"
      }
    },
    {
      "cell_type": "markdown",
      "source": [
        "-  This heatmap reveals if there's any meaningful correlation between movie duration and release year.\n",
        "-  Often, there may be a slight negative or no correlation, suggesting consistency or evolving prefences in movie lengths.  "
      ],
      "metadata": {
        "id": "bfSqtnDqZNRR"
      }
    },
    {
      "cell_type": "markdown",
      "source": [
        "#### Chart - 13 - Pair Plot"
      ],
      "metadata": {
        "id": "q29F0dvdveiT"
      }
    },
    {
      "cell_type": "code",
      "source": [
        "# Pair Plot"
      ],
      "metadata": {
        "id": "o58-TEIhveiU"
      },
      "execution_count": null,
      "outputs": []
    },
    {
      "cell_type": "code",
      "source": [
        "\n",
        "df_pair = df.copy()\n",
        "\n",
        "\n",
        "df_pair['duration_int'] = df_pair['duration'].str.extract('(\\d+)').astype(float)\n",
        "df_pair['duration_unit'] = df_pair['duration'].str.extract('([a-zA-Z]+)')\n",
        "\n",
        "df_pair['duration_mins'] = df_pair.apply(\n",
        "    lambda row: row['duration_int'] if row['type'] == 'Movie' and row['duration_unit'] == 'min' else None,\n",
        "    axis=1\n",
        ")\n",
        "\n",
        "\n",
        "df_pair_cleaned = df_pair[['release_year', 'duration_mins', 'type']].dropna()\n",
        "\n",
        "\n",
        "sns.pairplot(df_pair_cleaned, hue='type', diag_kind='kde', corner=True, palette='husl')\n",
        "plt.suptitle('Pair Plot: Release Year & Movie Duration by Type', y=1.02)\n",
        "plt.show()\n"
      ],
      "metadata": {
        "id": "ReqJ_M_ucL2n"
      },
      "execution_count": null,
      "outputs": []
    },
    {
      "cell_type": "markdown",
      "source": [
        "##### 1. Why did you pick the specific chart?"
      ],
      "metadata": {
        "id": "EXh0U9oCveiU"
      }
    },
    {
      "cell_type": "markdown",
      "source": [
        "Pair plot let us observe scatter relationships, distributions between numeric variables - while using hue to separate categories.\n"
      ],
      "metadata": {
        "id": "eMmPjTByveiU"
      }
    },
    {
      "cell_type": "markdown",
      "source": [
        "##### 2. What is/are the insight(s) found from the chart?"
      ],
      "metadata": {
        "id": "22aHeOlLveiV"
      }
    },
    {
      "cell_type": "markdown",
      "source": [
        "-  We might see clusters of shorter or longer movies across years.\n",
        "-  You may observe no duration values for TV shows, indicating a data gap - itself an insight."
      ],
      "metadata": {
        "id": "uPQ8RGwHveiV"
      }
    },
    {
      "cell_type": "markdown",
      "source": [
        "## **5. Solution to Business Objective**"
      ],
      "metadata": {
        "id": "JcMwzZxoAimU"
      }
    },
    {
      "cell_type": "markdown",
      "source": [
        "#### What do you suggest the client to achieve Business Objective ?\n",
        "Explain Briefly."
      ],
      "metadata": {
        "id": "8G2x9gOozGDZ"
      }
    },
    {
      "cell_type": "markdown",
      "source": [
        "Based on the Netflix movies and tv shows EDA, here are actionable suggestions to help the client achive the business objective of optimizing content strategy, enhancing user satisfaction and expanding global engagement:\n",
        "1. **Optimize content mix based on regional preferences**\n",
        "\n",
        "-  The analysis shows clear genre preferences across different countries.\n",
        "-  Netflix should invest more in regionally-preferred genres.\n",
        "-  If India prefers Drama and thrillers, focus on producing or licensing such content only.\n",
        "-  It'll increases user retention and local market growth by offering culturally relevant cotent.\n",
        "\n",
        "\n",
        "\n",
        "2. **Balace movies and TV shows based on consumption trends**\n",
        "-  Movies currently dominate the content catalog, but TV shows are increasing year-over-year.\n",
        "-  Use these trends to fine-tune the content acquisitionstrategy by:\n",
        "  -  Prioritizing tv shows in markets where binge-watching is popular.\n",
        "  -  Maintaining a strong movie base for regions with short-form content preferences.\n",
        "-  It increses watch time and subscription renewals by aligning with user viewing patterns.\n",
        "\n",
        "\n",
        "\n",
        "3. **Improve metadata consistency and completeness**\n",
        "-  The dataset had missing values in critical columns like rating, duration and country.\n",
        "-  Netflix should enhance its data quality pipelines to ensure every titleis tagged with:\n",
        "  -  Acurate release year\n",
        "  -  Country of origin\n",
        "  -  Duration\n",
        "  -  Genre and rating\n",
        "-  Better metadata improves search, recommendations and personalization featuers, boosting engagement.\n",
        "\n",
        "\n",
        "4. **Leverage historical data for future planning**\n",
        "-  The releaseyear tred shows when most content was added.\n",
        "-  Netflix can analyze:\n",
        "  -  Which past years had peak additions and high-performing content.\n",
        "  -  Seasonal apikes.\n",
        "-  More strategic planninng for content launches, marketing campaigns and licensing deals.\n",
        "\n",
        "5. **Regional expansion through localized originals**\n",
        "-  The top countries have a dominant Netflix presence.\n",
        "- Netflix should further expand by producing localized originals n underrepresented yet promising markets.\n",
        "-  Drives new user acquisition and global footprint expansion.\n",
        "\n",
        "6. **Genre diversification strategy**\n",
        "-  A few genres like dramas, comedies, documentries dominate.\n",
        "-  There's an opportunity to explore niche or hybrid genres based on emerging viewer tastes:\n",
        "  -  sci-fi thrillers, crime comedies, animated documentries.\n",
        "-  Helps Netflix stand out with unique content offerings and attract genre-loyal viewers.\n",
        "\n",
        "7. **Improve recommendation models**\n",
        "-  Use insights from the pair plots, duration trends and genre popularity to enhance recommendation algoritms.\n",
        "-  Factor in not just what's popular globally, but what similar users watch in each region.\n",
        "-  Boosts watch time and veiwer satisfaction through more personalized experiences.\n",
        "\n",
        "\n"
      ],
      "metadata": {
        "id": "pASKb0qOza21"
      }
    },
    {
      "cell_type": "markdown",
      "source": [
        "# **Conclusion**"
      ],
      "metadata": {
        "id": "gCX9965dhzqZ"
      }
    },
    {
      "cell_type": "markdown",
      "source": [
        "The EDA of the Netflix movies and tv shows dataset ha provided aluable insights into the platform's content strategy, trend, and distriution across genres, countries and years. The dataset, consisting of 7787 entries and 12 features, included key metadata such as title, type, country, genre, release year, duration and rating.\n",
        "Initial data cleaning and wrangling revealed issus such as missing values and inconsistent formatting in country and listed_in fields. These were addressed to ensure the reliability of further analysis. Data transformations like splitting multi-value fields, converting durations into numeric minutes and handling null values allowed for effective visualization and interpretation.\n",
        "\n",
        "Through a series of visualization, several patterns emerged:\n",
        "-  Movies dominate the Netflix catalog, but tv shows have shown a steady upward trend in recent year.\n",
        "-  Dramas, comedies and documentries are the top genres globally with variation in popularity across countries.\n",
        "-  Countries like the US,India,UK and Canada account for a significant portion of the catalog, highlighting Netflix's focus on these region.\n",
        "-  The correlation heatmap and pair plots did not show strong linear relationships between numerical fields like release year and duration but revealed distribution trends over time.\n",
        "-  Genre and content-type distributions vary significantly across top-performing countries, indicating localized content preferences that Netflix could leverage for strategic growth.\n",
        "\n",
        "\n",
        "\n",
        "These insights confirm that Nteflix's expansion strategy involves not only global content licensing but also strategic content localization to cater to specific egional tastes. Moreover, the need for data consistency and enrichment was evident, especially in fields like rating and duration, which are crucial for viewer filtering and personalization algorithms.\n",
        "\n",
        "From a business perspective, this analysis equips Netflix with a roadmap to:\n",
        "-  Tailor content acquisition and production strategies by geography and genre.\n",
        "-  Improve metadata for better user experience and discoverability.\n",
        "-  Explore underrepresented market and genres for diversification.\n",
        "-  Enhance recommendation systems using trends in user preferences and content features.\n",
        "\n",
        "In conclusion, this EDA exercise serves as a foundational step for deeper machine learning applications like recommendation systems, churnprediction or demand forecasting. It reaffirms the critical role of well-structured , rich metadata in driving data-informed decisions in the competitive streaming market.\n"
      ],
      "metadata": {
        "id": "Fjb1IsQkh3yE"
      }
    }
  ]
}